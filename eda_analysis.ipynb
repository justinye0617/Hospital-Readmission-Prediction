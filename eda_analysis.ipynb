{
  "cells": [
    {
      "cell_type": "markdown",
      "id": "97bd5764",
      "metadata": {
        "id": "97bd5764"
      },
      "source": [
        "# Hospital Readmission EDA\n",
        "\n",
        "Exploratory Data Analysis for the hospital readmission dataset."
      ]
    },
    {
      "cell_type": "code",
      "execution_count": null,
      "id": "771f8542",
      "metadata": {
        "id": "771f8542"
      },
      "outputs": [],
      "source": [
        "import pandas as pd\n",
        "import matplotlib.pyplot as plt\n",
        "import seaborn as sns\n",
        "\n",
        "# Set styles\n",
        "sns.set(style=\"whitegrid\")\n",
        "plt.rcParams[\"figure.figsize\"] = (10, 6)"
      ]
    },
    {
      "cell_type": "code",
      "execution_count": null,
      "id": "6a829770",
      "metadata": {
        "id": "6a829770"
      },
      "outputs": [],
      "source": [
        "# Load the dataset\n",
        "df = pd.read_csv(\"data/train_df.csv\")\n",
        "\n",
        "# Standardize column names\n",
        "df.columns = df.columns.str.lower().str.strip()\n",
        "\n",
        "# Display shape and basic info\n",
        "print(\"Dataset shape:\", df.shape)\n",
        "df.info()"
      ]
    },
    {
      "cell_type": "code",
      "execution_count": null,
      "id": "3d0a96d0",
      "metadata": {
        "id": "3d0a96d0"
      },
      "outputs": [],
      "source": [
        "# Check missing values\n",
        "missing = df.isnull().sum()\n",
        "print(\"\\nMissing values per column:\")\n",
        "print(missing[missing > 0])"
      ]
    },
    {
      "cell_type": "code",
      "execution_count": null,
      "id": "cd98dd31",
      "metadata": {
        "id": "cd98dd31"
      },
      "outputs": [],
      "source": [
        "# Summary statistics\n",
        "print(\"\\nSummary Statistics:\")\n",
        "display(df.describe(include = \"all\").transpose())"
      ]
    },
    {
      "cell_type": "code",
      "execution_count": null,
      "id": "3710251a",
      "metadata": {
        "id": "3710251a"
      },
      "outputs": [],
      "source": [
        "# Count plots for categorical columns\n",
        "categorical_cols = [\"gender\", \"primary_diagnosis\", \"discharge_to\", \"readmitted\"]\n",
        "for col in categorical_cols:\n",
        "    print(f\"\\nValue counts for {col}:\")\n",
        "    print(df[col].value_counts(), \"\\n\")\n",
        "    sns.countplot(x = col, data = df, palette = \"Set2\")\n",
        "    plt.title(f\"Distribution of {col}\")\n",
        "    plt.xticks(rotation = 45)\n",
        "    plt.tight_layout()\n",
        "    plt.show()"
      ]
    },
    {
      "cell_type": "code",
      "execution_count": null,
      "id": "61e2c16b",
      "metadata": {
        "id": "61e2c16b"
      },
      "outputs": [],
      "source": [
        "# Histogram of numeric columns\n",
        "numeric_cols = [\"age\", \"days_in_hospital\", \"num_procedures\", \"comorbidity_score\"]\n",
        "df[numeric_cols].hist(bins = 15, figsize = (12, 8), edgecolor = 'black')\n",
        "plt.suptitle(\"Distribution of Numeric Features\", fontsize=14)\n",
        "plt.tight_layout()\n",
        "plt.show()"
      ]
    },
    {
      "cell_type": "code",
      "execution_count": null,
      "id": "1ee3f8fe",
      "metadata": {
        "id": "1ee3f8fe"
      },
      "outputs": [],
      "source": [
        "# Correlation matrix\n",
        "corr = df[numeric_cols].corr()\n",
        "sns.heatmap(corr, annot = True, cmap = \"coolwarm\", fmt = \".2f\", square = True)\n",
        "plt.title(\"Correlation Heatmap of Numeric Features\")\n",
        "plt.show()"
      ]
    },
    {
      "cell_type": "code",
      "source": [
        "# Boxplots to explore relationship with readmission\n",
        "for col in numeric_cols:\n",
        "    sns.boxplot(x = \"readmitted\", y = col, data = df, palette = \"Set3\")\n",
        "    plt.title(f\"{col} vs. Readmission\")\n",
        "    plt.tight_layout()\n",
        "    plt.show()"
      ],
      "metadata": {
        "id": "GsEejjnshudU"
      },
      "id": "GsEejjnshudU",
      "execution_count": null,
      "outputs": []
    },
    {
      "cell_type": "code",
      "source": [
        "# Class balance check\n",
        "readmit_counts = df[\"readmitted\"].value_counts(normalize = True)\n",
        "print(\"\\nClass Distribution (Readmitted):\")\n",
        "print(readmit_counts)\n",
        "\n",
        "sns.barplot(x = readmit_counts.index, y = readmit_counts.values, palette = \"Set1\")\n",
        "plt.title(\"Readmission Class Balance\")\n",
        "plt.ylabel(\"Proportion\")\n",
        "plt.xlabel(\"Readmitted\")\n",
        "plt.ylim(0, 1)\n",
        "plt.tight_layout()\n",
        "plt.show()"
      ],
      "metadata": {
        "id": "tKRS-YZFhxiy"
      },
      "id": "tKRS-YZFhxiy",
      "execution_count": null,
      "outputs": []
    }
  ],
  "metadata": {
    "colab": {
      "provenance": []
    }
  },
  "nbformat": 4,
  "nbformat_minor": 5
}