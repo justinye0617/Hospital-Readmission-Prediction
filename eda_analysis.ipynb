{
 "cells": [
  {
   "cell_type": "markdown",
   "id": "97bd5764",
   "metadata": {},
   "source": [
    "# Hospital Readmission EDA\n",
    "\n",
    "Exploratory Data Analysis for the hospital readmission dataset."
   ]
  },
  {
   "cell_type": "code",
   "execution_count": null,
   "id": "771f8542",
   "metadata": {},
   "outputs": [],
   "source": [
    "import pandas as pd\n",
    "import matplotlib.pyplot as plt\n",
    "import seaborn as sns\n",
    "\n",
    "# Set styles\n",
    "sns.set(style=\"whitegrid\")\n",
    "plt.rcParams[\"figure.figsize\"] = (10, 6)\n"
   ]
  },
  {
   "cell_type": "code",
   "execution_count": null,
   "id": "6a829770",
   "metadata": {},
   "outputs": [],
   "source": [
    "# Load the dataset\n",
    "df = pd.read_csv(\"data/train_df.csv\")\n",
    "\n",
    "# Standardize column names\n",
    "df.columns = df.columns.str.lower().str.strip()\n",
    "\n",
    "# Display shape and basic info\n",
    "print(\"Dataset shape:\", df.shape)\n",
    "df.info()\n"
   ]
  },
  {
   "cell_type": "code",
   "execution_count": null,
   "id": "3d0a96d0",
   "metadata": {},
   "outputs": [],
   "source": [
    "# Check missing values\n",
    "missing = df.isnull().sum()\n",
    "print(\"Missing values per column:\")\n",
    "print(missing[missing > 0])\n"
   ]
  },
  {
   "cell_type": "code",
   "execution_count": null,
   "id": "cd98dd31",
   "metadata": {},
   "outputs": [],
   "source": [
    "# Summary statistics\n",
    "df.describe(include=\"all\").transpose()\n"
   ]
  },
  {
   "cell_type": "code",
   "execution_count": null,
   "id": "3710251a",
   "metadata": {},
   "outputs": [],
   "source": [
    "# Count plot for categorical columns\n",
    "categorical_cols = [\"gender\", \"primary_diagnosis\", \"discharge_to\", \"readmitted\"]\n",
    "for col in categorical_cols:\n",
    "    print(f\"Value counts for {col}:\n",
    "\")\n",
    "    print(df[col].value_counts(), \"\\n\")\n"
   ]
  },
  {
   "cell_type": "code",
   "execution_count": null,
   "id": "61e2c16b",
   "metadata": {},
   "outputs": [],
   "source": [
    "# Histogram of numeric columns\n",
    "numeric_cols = [\"age\", \"days_in_hospital\", \"num_procedures\", \"comorbidity_score\"]\n",
    "df[numeric_cols].hist(bins=15, figsize=(12, 8))\n",
    "plt.suptitle(\"Distribution of Numeric Features\")\n",
    "plt.tight_layout()\n",
    "plt.show()\n"
   ]
  },
  {
   "cell_type": "code",
   "execution_count": null,
   "id": "1ee3f8fe",
   "metadata": {},
   "outputs": [],
   "source": [
    "# Correlation matrix\n",
    "corr = df[numeric_cols].corr()\n",
    "\n",
    "sns.heatmap(corr, annot=True, cmap=\"coolwarm\")\n",
    "plt.title(\"Correlation Heatmap of Numeric Features\")\n",
    "plt.show()\n"
   ]
  }
 ],
 "metadata": {},
 "nbformat": 4,
 "nbformat_minor": 5
}
